{
 "cells": [
  {
   "cell_type": "code",
   "execution_count": 1,
   "metadata": {},
   "outputs": [
    {
     "name": "stdout",
     "output_type": "stream",
     "text": [
      "Requesting Token...\n",
      "\n",
      "Access Token = 012481e5ad4c5b71976a3cfcaa37829770579b63\n",
      "\n",
      "Requesting Token...\n",
      "\n",
      "Access Token = dcb130be60eee681b6e722ff2a4af746bbdafdab\n",
      "\n"
     ]
    }
   ],
   "source": [
    "#Import everything I will need for this \n",
    "import requests\n",
    "import urllib3\n",
    "import numpy as np \n",
    "import pandas as pd\n",
    "import seaborn as sns\n",
    "import matplotlib.pyplot as plt\n",
    "import os\n",
    "import sys \n",
    "\n",
    "sys.path.append(\"../\")\n",
    "\n",
    "from Scripts.Data_Pull import *\n"
   ]
  },
  {
   "cell_type": "code",
   "execution_count": 2,
   "metadata": {},
   "outputs": [
    {
     "name": "stdout",
     "output_type": "stream",
     "text": [
      "<class 'pandas.core.frame.DataFrame'>\n",
      "RangeIndex: 400 entries, 0 to 399\n",
      "Data columns (total 60 columns):\n",
      " #   Column                         Non-Null Count  Dtype  \n",
      "---  ------                         --------------  -----  \n",
      " 0   resource_state                 400 non-null    int64  \n",
      " 1   name                           400 non-null    object \n",
      " 2   distance                       400 non-null    float64\n",
      " 3   moving_time                    400 non-null    int64  \n",
      " 4   elapsed_time                   400 non-null    int64  \n",
      " 5   total_elevation_gain           400 non-null    float64\n",
      " 6   type                           400 non-null    object \n",
      " 7   sport_type                     400 non-null    object \n",
      " 8   workout_type                   221 non-null    float64\n",
      " 9   id                             400 non-null    int64  \n",
      " 10  start_date                     400 non-null    object \n",
      " 11  start_date_local               400 non-null    object \n",
      " 12  timezone                       400 non-null    object \n",
      " 13  utc_offset                     400 non-null    float64\n",
      " 14  location_city                  0 non-null      object \n",
      " 15  location_state                 0 non-null      object \n",
      " 16  location_country               0 non-null      object \n",
      " 17  achievement_count              400 non-null    int64  \n",
      " 18  kudos_count                    400 non-null    int64  \n",
      " 19  comment_count                  400 non-null    int64  \n",
      " 20  athlete_count                  400 non-null    int64  \n",
      " 21  photo_count                    400 non-null    int64  \n",
      " 22  trainer                        400 non-null    bool   \n",
      " 23  commute                        400 non-null    bool   \n",
      " 24  manual                         400 non-null    bool   \n",
      " 25  private                        400 non-null    bool   \n",
      " 26  visibility                     400 non-null    object \n",
      " 27  flagged                        400 non-null    bool   \n",
      " 28  gear_id                        181 non-null    object \n",
      " 29  start_latlng                   400 non-null    object \n",
      " 30  end_latlng                     400 non-null    object \n",
      " 31  average_speed                  400 non-null    float64\n",
      " 32  max_speed                      400 non-null    float64\n",
      " 33  average_cadence                288 non-null    float64\n",
      " 34  average_watts                  248 non-null    float64\n",
      " 35  max_watts                      248 non-null    float64\n",
      " 36  weighted_average_watts         248 non-null    float64\n",
      " 37  kilojoules                     248 non-null    float64\n",
      " 38  device_watts                   248 non-null    object \n",
      " 39  has_heartrate                  400 non-null    bool   \n",
      " 40  average_heartrate              192 non-null    float64\n",
      " 41  max_heartrate                  192 non-null    float64\n",
      " 42  heartrate_opt_out              400 non-null    bool   \n",
      " 43  display_hide_heartrate_option  400 non-null    bool   \n",
      " 44  elev_high                      385 non-null    float64\n",
      " 45  elev_low                       385 non-null    float64\n",
      " 46  upload_id                      393 non-null    float64\n",
      " 47  upload_id_str                  393 non-null    object \n",
      " 48  external_id                    393 non-null    object \n",
      " 49  from_accepted_tag              400 non-null    bool   \n",
      " 50  pr_count                       400 non-null    int64  \n",
      " 51  total_photo_count              400 non-null    int64  \n",
      " 52  has_kudoed                     400 non-null    bool   \n",
      " 53  suffer_score                   192 non-null    float64\n",
      " 54  athlete.id                     400 non-null    int64  \n",
      " 55  athlete.resource_state         400 non-null    int64  \n",
      " 56  map.id                         400 non-null    object \n",
      " 57  map.summary_polyline           400 non-null    object \n",
      " 58  map.resource_state             400 non-null    int64  \n",
      " 59  Athlete                        400 non-null    object \n",
      "dtypes: bool(10), float64(17), int64(14), object(19)\n",
      "memory usage: 160.3+ KB\n"
     ]
    }
   ],
   "source": [
    "df.info()"
   ]
  },
  {
   "cell_type": "code",
   "execution_count": null,
   "metadata": {},
   "outputs": [],
   "source": [
    "features = ['name', 'Athlete', 'sport_type', 'distance', 'elapsed_time', 'total_elevation_gain']"
   ]
  },
  {
   "attachments": {},
   "cell_type": "markdown",
   "metadata": {},
   "source": [
    "To get Kyle's and Nick's Data I need to send them this link, https://www.strava.com/oauth/authorize?client_id= 75238&redirect_uri=http://localhost&response_type=code&scope=activity:read_all and then have them accept and send me back the link they get. Then I need to post this https://www.strava.com/oauth/token?client_id=your_client_id&client_secret=your_client_secret&code=their link here &grant_type=authorization_code to post man and get the refresh token"
   ]
  },
  {
   "cell_type": "code",
   "execution_count": null,
   "metadata": {},
   "outputs": [],
   "source": []
  }
 ],
 "metadata": {
  "kernelspec": {
   "display_name": "base",
   "language": "python",
   "name": "python3"
  },
  "language_info": {
   "codemirror_mode": {
    "name": "ipython",
    "version": 3
   },
   "file_extension": ".py",
   "mimetype": "text/x-python",
   "name": "python",
   "nbconvert_exporter": "python",
   "pygments_lexer": "ipython3",
   "version": "3.9.13"
  },
  "orig_nbformat": 4,
  "vscode": {
   "interpreter": {
    "hash": "945558578363ae2f63dcf40f7459d1632e819c0a8c94f61ef3e6955563eea871"
   }
  }
 },
 "nbformat": 4,
 "nbformat_minor": 2
}
