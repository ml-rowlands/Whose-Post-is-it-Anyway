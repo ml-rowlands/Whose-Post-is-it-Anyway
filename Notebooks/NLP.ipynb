{
 "cells": [
  {
   "cell_type": "code",
   "execution_count": 3,
   "metadata": {},
   "outputs": [],
   "source": [
    "#Import everything I will need for this \n",
    "import requests\n",
    "import urllib3\n",
    "import numpy as np \n",
    "import pandas as pd\n",
    "import seaborn as sns\n",
    "import matplotlib.pyplot as plt\n",
    "import os\n",
    "import sys \n",
    "from geopy.geocoders import Nominatim\n",
    "\n",
    "sys.path.append(\"../\")\n",
    "\n",
    "from Scripts.Data_Pull import *\n",
    "#from Scripts.Location_Filter import *\n"
   ]
  },
  {
   "cell_type": "code",
   "execution_count": 2,
   "metadata": {},
   "outputs": [
    {
     "name": "stdout",
     "output_type": "stream",
     "text": [
      "<class 'pandas.core.frame.DataFrame'>\n",
      "RangeIndex: 2937 entries, 0 to 2936\n",
      "Data columns (total 15 columns):\n",
      " #   Column                Non-Null Count  Dtype  \n",
      "---  ------                --------------  -----  \n",
      " 0   name                  2934 non-null   object \n",
      " 1   athlete               2937 non-null   object \n",
      " 2   sport_type            2934 non-null   object \n",
      " 3   distance              2934 non-null   float64\n",
      " 4   elapsed_time          2934 non-null   float64\n",
      " 5   total_elevation_gain  2934 non-null   float64\n",
      " 6   kudos_count           2934 non-null   float64\n",
      " 7   start_latlng          2934 non-null   object \n",
      " 8   average_speed         2934 non-null   float64\n",
      " 9   max_speed             2934 non-null   float64\n",
      " 10  private               2934 non-null   object \n",
      " 11  athlete_count         2934 non-null   float64\n",
      " 12  start_date            2934 non-null   object \n",
      " 13  average_heartrate     1818 non-null   float64\n",
      " 14  elev_high             2719 non-null   float64\n",
      "dtypes: float64(9), object(6)\n",
      "memory usage: 344.3+ KB\n"
     ]
    }
   ],
   "source": [
    "df.info()"
   ]
  },
  {
   "cell_type": "code",
   "execution_count": null,
   "metadata": {},
   "outputs": [],
   "source": []
  },
  {
   "cell_type": "markdown",
   "metadata": {},
   "source": [
    "To get Kyle's and Nick's Data I need to send them this link, https://www.strava.com/oauth/authorize?client_id= 75238&redirect_uri=http://localhost&response_type=code&scope=activity:read_all and then have them accept and send me back the link they get. Then I need to post this https://www.strava.com/oauth/token?client_id=your_client_id&client_secret=your_client_secret&code=their link here &grant_type=authorization_code to post man and get the refresh token"
   ]
  },
  {
   "cell_type": "code",
   "execution_count": null,
   "metadata": {},
   "outputs": [],
   "source": []
  }
 ],
 "metadata": {
  "kernelspec": {
   "display_name": "Python 3",
   "language": "python",
   "name": "python3"
  },
  "language_info": {
   "codemirror_mode": {
    "name": "ipython",
    "version": 3
   },
   "file_extension": ".py",
   "mimetype": "text/x-python",
   "name": "python",
   "nbconvert_exporter": "python",
   "pygments_lexer": "ipython3",
   "version": "3.9.13"
  },
  "vscode": {
   "interpreter": {
    "hash": "945558578363ae2f63dcf40f7459d1632e819c0a8c94f61ef3e6955563eea871"
   }
  }
 },
 "nbformat": 4,
 "nbformat_minor": 2
}
